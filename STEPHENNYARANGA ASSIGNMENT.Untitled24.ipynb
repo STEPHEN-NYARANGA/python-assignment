{
 "cells": [
  {
   "cell_type": "markdown",
   "metadata": {},
   "source": [
    "NAME: STEPHEN NYARANGA.\n",
    "ASSIGNMENT Init2Py-01"
   ]
  },
  {
   "cell_type": "markdown",
   "metadata": {},
   "source": [
    "1.Compute the following expressions for a natural number n chosen by the user:"
   ]
  },
  {
   "cell_type": "code",
   "execution_count": 6,
   "metadata": {},
   "outputs": [],
   "source": [
    "def odd():\n",
    "    n = int(input(\"Enter user number :\"))\n",
    "    summation = 0\n",
    "    for i in range(n):\n",
    "        if i%2 ==1:\n",
    "            summation += i +3\n",
    "        else:\n",
    "            summation = summation\n",
    "    print(summation)"
   ]
  },
  {
   "cell_type": "code",
   "execution_count": 7,
   "metadata": {},
   "outputs": [
    {
     "name": "stdout",
     "output_type": "stream",
     "text": [
      "Enter user number :40\n",
      "460\n"
     ]
    }
   ],
   "source": [
    "odd()"
   ]
  },
  {
   "cell_type": "code",
   "execution_count": 12,
   "metadata": {},
   "outputs": [],
   "source": [
    "def product():\n",
    "    w = int(input('ENTER USER NUMBER:'))\n",
    "    r,i = 1,1\n",
    "    while i < w :\n",
    "        if i%2==0:\n",
    "            r *= i+3\n",
    "        else : r = r\n",
    "        i +=1\n",
    "    print(r)"
   ]
  },
  {
   "cell_type": "code",
   "execution_count": 13,
   "metadata": {},
   "outputs": [
    {
     "name": "stdout",
     "output_type": "stream",
     "text": [
      "ENTER USER NUMBER:7\n",
      "315\n"
     ]
    }
   ],
   "source": [
    "product()"
   ]
  },
  {
   "cell_type": "markdown",
   "metadata": {},
   "source": [
    "2. Write a program that reads the number of the day of the week (from 0 to 6). If it is a\n",
    "working day, then the program will write the name of the corresponding day. Otherwise,\n",
    "it will write the word \"Weekend\"."
   ]
  },
  {
   "cell_type": "code",
   "execution_count": 19,
   "metadata": {},
   "outputs": [],
   "source": [
    "def Day():\n",
    "    week = int(input(\"THE NUMBER OF DAYS\"))\n",
    "    while week > 5:\n",
    "        print(\"NUMBER OF DAYS :\":)\n",
    "        break\n",
    "    days = ['monday','tuesday','wednesday','thursday','friday']\n",
    "    i = 0\n",
    "    if i in range(week):\n",
    "        print('the day is:',days[week])\n",
    "    else:\n",
    "        print('\"Weekend\".')"
   ]
  },
  {
   "cell_type": "code",
   "execution_count": 23,
   "metadata": {},
   "outputs": [
    {
     "name": "stdout",
     "output_type": "stream",
     "text": [
      "THE NUMBER OF DAYS3\n",
      "the day is: thursday\n"
     ]
    }
   ],
   "source": [
    "Day()"
   ]
  },
  {
   "cell_type": "markdown",
   "metadata": {},
   "source": [
    "3. Make a program that, given a month number (from 0 to 11), indicates how many days it\n",
    "has (28, 30 or 31), ignoring the leap years."
   ]
  },
  {
   "cell_type": "code",
   "execution_count": 24,
   "metadata": {},
   "outputs": [],
   "source": [
    "def month():\n",
    "    t = int(input(\"ENTER MONTH \"))\n",
    "    M =['JANUARY','FEBRUARY','MARCH','APRIL','MAY','JUNE','JULY','AUGUST','SEPTEMBER','OCTOBER','NOVEMBER','DECEMBER']\n",
    "    if t == 1:\n",
    "        print('THE MONTH IS',M[1], 'HAS 28 DAYS')\n",
    "    elif t in [0,2,4,6,7,9,11]:\n",
    "        print(' THE MONTH IS',M[t],'HAS 31 DAYS.')\n",
    "    else:\n",
    "        print('THE MONTH IS',M[t],'HAS 30 DAYS.')\n",
    "    \n",
    "        "
   ]
  },
  {
   "cell_type": "code",
   "execution_count": 26,
   "metadata": {},
   "outputs": [
    {
     "name": "stdout",
     "output_type": "stream",
     "text": [
      "ENTER MONTH 6\n",
      " THE MONTH IS JULY HAS 31 DAYS.\n"
     ]
    }
   ],
   "source": [
    "month()"
   ]
  },
  {
   "cell_type": "markdown",
   "metadata": {},
   "source": [
    "4. Write two versions of python code that displays your name 3 times. One version with a\n",
    "\"for loop\" and another version with a \"while loop\"."
   ]
  },
  {
   "cell_type": "code",
   "execution_count": 27,
   "metadata": {},
   "outputs": [],
   "source": [
    "def names():\n",
    "    Y = input('ENTER YOUR NAME :')\n",
    "    for i in range(3):\n",
    "        print(Y)\n",
    "def NAMES():\n",
    "    Y = input('ENTER YOUR NAME :')\n",
    "    i = 0\n",
    "    while i < 3:\n",
    "        print(Y)\n",
    "        i=i+1"
   ]
  },
  {
   "cell_type": "code",
   "execution_count": 28,
   "metadata": {},
   "outputs": [
    {
     "name": "stdout",
     "output_type": "stream",
     "text": [
      "ENTER YOUR NAME :STEPHEN NYARANGA\n",
      "STEPHEN NYARANGA\n",
      "STEPHEN NYARANGA\n",
      "STEPHEN NYARANGA\n"
     ]
    }
   ],
   "source": [
    "names()"
   ]
  },
  {
   "cell_type": "code",
   "execution_count": 30,
   "metadata": {},
   "outputs": [
    {
     "name": "stdout",
     "output_type": "stream",
     "text": [
      "ENTER YOUR NAME :STEPHEN NYARANGA\n",
      "STEPHEN NYARANGA\n",
      "STEPHEN NYARANGA\n",
      "STEPHEN NYARANGA\n"
     ]
    }
   ],
   "source": [
    "NAMES()"
   ]
  },
  {
   "cell_type": "markdown",
   "metadata": {},
   "source": [
    "6 Given two numbers a0 and a1, the Fibonacci sequence they generate is constructed from\n",
    "the recursion formula $a_n+_1$ = $a_n$ + $a_n−_1$. Calculate the first 15 terms of a Fibonacci\n",
    "sequence, asking the user the initial values."
   ]
  },
  {
   "cell_type": "code",
   "execution_count": 35,
   "metadata": {},
   "outputs": [],
   "source": [
    "def Fibonacci():\n",
    "    a0 = int(input('given value a:'))\n",
    "    a1 = int(input('given value b:'))\n",
    "    s0= (a0+a1)%2\n",
    "    Sequence = []\n",
    "    for i in range(15):\n",
    "        a0 = a1\n",
    "        a1 = s0\n",
    "        s0 = (a0 + a1)%2\n",
    "        Sequence.append(s0)\n",
    "    print(Sequence)"
   ]
  },
  {
   "cell_type": "code",
   "execution_count": 37,
   "metadata": {},
   "outputs": [
    {
     "name": "stdout",
     "output_type": "stream",
     "text": [
      "given value a:30\n",
      "given value b:32\n",
      "[0, 0, 0, 0, 0, 0, 0, 0, 0, 0, 0, 0, 0, 0, 0]\n"
     ]
    }
   ],
   "source": [
    "Fibonacci()"
   ]
  },
  {
   "cell_type": "markdown",
   "metadata": {},
   "source": [
    "7. Compute the first 30 terms of the sequence defined by 2xn+2 − xn+1 − 6xn = 0 sequence,\n",
    "given any two initial values x0 and x1\n",
    "\n",
    "1"
   ]
  },
  {
   "cell_type": "code",
   "execution_count": 40,
   "metadata": {},
   "outputs": [],
   "source": [
    "def sequence():\n",
    "    x0 = int(input('initial value 1:'))\n",
    "    x1 = int(input('initial value 2:'))\n",
    "    x = (6*x0+x1)//2\n",
    "    X = []\n",
    "    for i in range(30):\n",
    "        x0 = x1\n",
    "        x1 = x\n",
    "        x = (6*x0 + x1)//2\n",
    "        X.append(x)\n",
    "    print(X)"
   ]
  },
  {
   "cell_type": "code",
   "execution_count": 41,
   "metadata": {},
   "outputs": [
    {
     "name": "stdout",
     "output_type": "stream",
     "text": [
      "initial value 1:6\n",
      "initial value 2:20\n",
      "[74, 121, 282, 504, 1098, 2061, 4324, 8345, 17144, 33607, 68235, 134938, 272174, 540901, 1086972, 2166189, 4344010, 8670572, 17367316, 34695374, 69449635, 138810939, 277754374, 555310004, 1110918124, 2221389074, 4443448909, 8885891676, 17773292565, 35544321310]\n"
     ]
    }
   ],
   "source": [
    "sequence()"
   ]
  },
  {
   "cell_type": "markdown",
   "metadata": {},
   "source": [
    "8 Write python code to determine whether or not a year is a leap year. Be sure you know what a leap year is."
   ]
  },
  {
   "cell_type": "code",
   "execution_count": 44,
   "metadata": {},
   "outputs": [],
   "source": [
    "def year():\n",
    "    n = int(input(\"The year is:\"))\n",
    "    if n%4 == 0:\n",
    "        print(\"The year is a leap year\")\n",
    "    else:\n",
    "        print(\"The year is not a leap year\")\n",
    "                  "
   ]
  },
  {
   "cell_type": "code",
   "execution_count": 45,
   "metadata": {},
   "outputs": [
    {
     "name": "stdout",
     "output_type": "stream",
     "text": [
      "The year is:1996\n",
      "The year is a leap year\n"
     ]
    }
   ],
   "source": [
    "year()"
   ]
  },
  {
   "cell_type": "markdown",
   "metadata": {},
   "source": [
    "b) Write the code using only logical operators, i.e. no conditional branching."
   ]
  },
  {
   "cell_type": "code",
   "execution_count": 47,
   "metadata": {},
   "outputs": [],
   "source": [
    "def years():\n",
    "    n = int(input(\"write the year\"))\n",
    "    m  = n%4\n",
    "    return m == 0"
   ]
  },
  {
   "cell_type": "code",
   "execution_count": 48,
   "metadata": {},
   "outputs": [
    {
     "name": "stdout",
     "output_type": "stream",
     "text": [
      "write the year1996\n"
     ]
    },
    {
     "data": {
      "text/plain": [
       "True"
      ]
     },
     "execution_count": 48,
     "metadata": {},
     "output_type": "execute_result"
    }
   ],
   "source": [
    "years()"
   ]
  },
  {
   "cell_type": "markdown",
   "metadata": {},
   "source": [
    "8) Write python code that computes the sum of the square of the first n natural numbers. One version with a \"for loop\" and another version with a \"while loop\"."
   ]
  },
  {
   "cell_type": "code",
   "execution_count": 57,
   "metadata": {},
   "outputs": [],
   "source": [
    "def sum1():\n",
    "    T=int(input(\"enter the number:\"))\n",
    "    S = 0\n",
    "    for i in range(T+1):\n",
    "        S += i**2\n",
    "    print(S)\n",
    "    \n",
    "def sum2():\n",
    "    T= int(input(\"enter the number:\"))\n",
    "    S,i = 0,0\n",
    "    while i < T:\n",
    "        S += i**2\n",
    "        i+=1\n",
    "    print(S)"
   ]
  },
  {
   "cell_type": "code",
   "execution_count": 60,
   "metadata": {},
   "outputs": [
    {
     "name": "stdout",
     "output_type": "stream",
     "text": [
      "enter the number:6\n",
      "91\n"
     ]
    }
   ],
   "source": [
    "sum1()"
   ]
  },
  {
   "cell_type": "code",
   "execution_count": 63,
   "metadata": {},
   "outputs": [
    {
     "name": "stdout",
     "output_type": "stream",
     "text": [
      "enter the number:5\n",
      "30\n"
     ]
    }
   ],
   "source": [
    "sum2()\n"
   ]
  },
  {
   "cell_type": "markdown",
   "metadata": {},
   "source": [
    "9 a) Write python code that computes the sum of the square of the first n natural numbers.\n",
    "One version with a \"for loop\" and another version with a \"while loop\".\n",
    "b) Write python code that prints, for a natural number M, the smallest natural number\n",
    "n such that 1\n",
    "\n",
    "2 + 22 +· · ·+n\n",
    "\n",
    "2 ≥ M. One version with a \"for loop\" and another version\n",
    "\n",
    "with a \"while loop\"."
   ]
  },
  {
   "cell_type": "code",
   "execution_count": null,
   "metadata": {},
   "outputs": [],
   "source": []
  },
  {
   "cell_type": "markdown",
   "metadata": {},
   "source": [
    "10 a) Write python code that prints all the divisors of a given natural number.\n",
    "b) Read an integer number input by the user and calculate its prime factors. This will\n",
    "just be some of its divisors."
   ]
  },
  {
   "cell_type": "code",
   "execution_count": 64,
   "metadata": {},
   "outputs": [],
   "source": [
    "def div():\n",
    "    n = int(input(\"Enter the number :\"))\n",
    "    d = []\n",
    "    for j in range(1,n+1):\n",
    "         if n%j == 0:\n",
    "                d.append(j)\n",
    "    return d"
   ]
  },
  {
   "cell_type": "code",
   "execution_count": 65,
   "metadata": {},
   "outputs": [
    {
     "name": "stdout",
     "output_type": "stream",
     "text": [
      "Enter the number :6\n"
     ]
    },
    {
     "data": {
      "text/plain": [
       "[1, 2, 3, 6]"
      ]
     },
     "execution_count": 65,
     "metadata": {},
     "output_type": "execute_result"
    }
   ],
   "source": [
    "div()"
   ]
  },
  {
   "cell_type": "markdown",
   "metadata": {},
   "source": [
    "b) Read an integer number input by the user and calculate its prime factors. This will just be some of its divisors."
   ]
  },
  {
   "cell_type": "code",
   "execution_count": 67,
   "metadata": {},
   "outputs": [
    {
     "ename": "SyntaxError",
     "evalue": "invalid syntax (<ipython-input-67-f7081f2d33e8>, line 10)",
     "output_type": "error",
     "traceback": [
      "\u001b[0;36m  File \u001b[0;32m\"<ipython-input-67-f7081f2d33e8>\"\u001b[0;36m, line \u001b[0;32m10\u001b[0m\n\u001b[0;31m    k.append(i)9\u001b[0m\n\u001b[0m               ^\u001b[0m\n\u001b[0;31mSyntaxError\u001b[0m\u001b[0;31m:\u001b[0m invalid syntax\n"
     ]
    }
   ],
   "source": [
    "def prime_factor():\n",
    "    n = int(input(\"write the integer:\"))\n",
    "    i = 2\n",
    "    k= []\n",
    "    while i * i <= n:\n",
    "        if n % i:\n",
    "            i += 1\n",
    "        else:\n",
    "            n //= i\n",
    "            k.append(i)9\n",
    "    if n > 1:\n",
    "        k.append(n)\n",
    "    return k"
   ]
  },
  {
   "cell_type": "markdown",
   "metadata": {},
   "source": [
    "11 Write a program that prints all the numbers between 0 and 40 that are multiples of 3, 7\n",
    "or 11."
   ]
  },
  {
   "cell_type": "code",
   "execution_count": 68,
   "metadata": {},
   "outputs": [],
   "source": [
    "def make():\n",
    "    for i in range(40):\n",
    "        if i%3==0 or i%7 ==0 or i%11==0:\n",
    "            print(i)"
   ]
  },
  {
   "cell_type": "code",
   "execution_count": 69,
   "metadata": {},
   "outputs": [
    {
     "name": "stdout",
     "output_type": "stream",
     "text": [
      "0\n",
      "3\n",
      "6\n",
      "7\n",
      "9\n",
      "11\n",
      "12\n",
      "14\n",
      "15\n",
      "18\n",
      "21\n",
      "22\n",
      "24\n",
      "27\n",
      "28\n",
      "30\n",
      "33\n",
      "35\n",
      "36\n",
      "39\n"
     ]
    }
   ],
   "source": [
    "make()"
   ]
  },
  {
   "cell_type": "markdown",
   "metadata": {},
   "source": [
    "12 Write python code that prints the floor of a float x. Recall that the floor of a float x is the\n",
    "largest integer value less than or equal to x, i.e. if E[x] is the floor of x, then it satisfies,\n",
    "\n",
    "E[x] = 1 + E[x − 1]\n",
    "\n",
    "PS: On Friday, you will be asked to write a recursive version of the above program."
   ]
  },
  {
   "cell_type": "code",
   "execution_count": 72,
   "metadata": {},
   "outputs": [],
   "source": [
    "def part():\n",
    "    y = float(input(\" enter the number:\"))\n",
    "    return (1+int(y-1))"
   ]
  },
  {
   "cell_type": "code",
   "execution_count": 73,
   "metadata": {},
   "outputs": [
    {
     "name": "stdout",
     "output_type": "stream",
     "text": [
      " enter the number:12.435\n"
     ]
    },
    {
     "data": {
      "text/plain": [
       "12"
      ]
     },
     "execution_count": 73,
     "metadata": {},
     "output_type": "execute_result"
    }
   ],
   "source": [
    "part()"
   ]
  },
  {
   "cell_type": "markdown",
   "metadata": {},
   "source": [
    "13 Given a point in the plane by its Cartesian coordinates, determine in which quadrant it is\n",
    "(1st, 2nd, 3rd, 4th), if it lies on an axis, or if it is the origin. Do this for several points in\n",
    "the same execution of the program until the user quits."
   ]
  },
  {
   "cell_type": "code",
   "execution_count": 74,
   "metadata": {},
   "outputs": [],
   "source": [
    "def cartesianplane():\n",
    "    x = float(input(\"write the cartesian point:\"))\n",
    "    y = float(input(\"write the cartesian point :\"))\n",
    "    if x > 0 and y > 0:\n",
    "        print(\"the cartesian point\",\"(\",x,\",\",y,\")\",\"the first quadrant\")\n",
    "    elif x < 0 and y > 0:\n",
    "        print(\"the cartesian point\",\"(\",x,\",\",y,\")\",\"the second quadrant\")\n",
    "    elif x < 0 and y < 0:\n",
    "        print(\"the cartesian point\",\"(\",x,\",\",y,\")\",\"the third quadrant\")\n",
    "    elif x > 0 and y < 0:\n",
    "        print(\"the cartesian point\",\"(\",x,\",\",y,\")\",\"the forth quadrant\")\n",
    "    else:\n",
    "        print(\"the is in the cartesian plane\")\n",
    "              "
   ]
  },
  {
   "cell_type": "code",
   "execution_count": 75,
   "metadata": {},
   "outputs": [
    {
     "name": "stdout",
     "output_type": "stream",
     "text": [
      "write the cartesian point:6\n",
      "write the cartesian point :-5\n",
      "the cartesian point ( 6.0 , -5.0 ) the forth quadrant\n"
     ]
    }
   ],
   "source": [
    "cartesianplane()"
   ]
  }
 ],
 "metadata": {
  "kernelspec": {
   "display_name": "Python 3",
   "language": "python",
   "name": "python3"
  },
  "language_info": {
   "codemirror_mode": {
    "name": "ipython",
    "version": 3
   },
   "file_extension": ".py",
   "mimetype": "text/x-python",
   "name": "python",
   "nbconvert_exporter": "python",
   "pygments_lexer": "ipython3",
   "version": "3.6.9"
  }
 },
 "nbformat": 4,
 "nbformat_minor": 2
}

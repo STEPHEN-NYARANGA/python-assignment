{
 "cells": [
  {
   "cell_type": "markdown",
   "metadata": {},
   "source": [
    "1.Write a python script that asks the user for the values of x and y and uses these inputs to compute the numerical value of the expression"
   ]
  },
  {
   "cell_type": "code",
   "execution_count": 2,
   "metadata": {},
   "outputs": [],
   "source": [
    "from math import sqrt \n",
    "from math import sin   \n",
    "def calc():\n",
    "    x = int(input(\"enter the value of x :\"))\n",
    "    y = int(input(\"enter the value of y:\"))\n",
    "    d = x**2+y\n",
    "    v = sqrt(d)\n",
    "    t = (1/x)+2*sin(y)\n",
    "    c = v/t\n",
    "    return c"
   ]
  },
  {
   "cell_type": "code",
   "execution_count": 3,
   "metadata": {},
   "outputs": [
    {
     "name": "stdout",
     "output_type": "stream",
     "text": [
      "enter the value of x :4\n",
      "enter the value of y:8\n"
     ]
    },
    {
     "data": {
      "text/plain": [
       "2.1981169432768857"
      ]
     },
     "execution_count": 3,
     "metadata": {},
     "output_type": "execute_result"
    }
   ],
   "source": [
    "calc()"
   ]
  },
  {
   "cell_type": "markdown",
   "metadata": {},
   "source": [
    "2) Write a function that given two integers b and n (n is positive), calculates bn without using python’s power operator. Name this function ownpowerfn.py. PS: What if we do not specify that n has to be positive?"
   ]
  },
  {
   "cell_type": "code",
   "execution_count": 10,
   "metadata": {},
   "outputs": [],
   "source": [
    "def ownpowerfn_py_PS():\n",
    "    b = int(input(\"Enter the value b:\"))\n",
    "    n = int(input (\"Enter the value n:\"))\n",
    "    t = b\n",
    "    for i in range(n-1):\n",
    "        b*=t\n",
    "    print(b)"
   ]
  },
  {
   "cell_type": "code",
   "execution_count": 12,
   "metadata": {},
   "outputs": [
    {
     "name": "stdout",
     "output_type": "stream",
     "text": [
      "Enter the value b:4\n",
      "Enter the value n:8\n",
      "65536\n"
     ]
    }
   ],
   "source": [
    "ownpowerfn_py_PS()"
   ]
  },
  {
   "cell_type": "markdown",
   "metadata": {},
   "source": [
    "The program will give the value of b."
   ]
  },
  {
   "cell_type": "markdown",
   "metadata": {},
   "source": [
    "a) Takes two arguments, and computes their arithmetic and geometric means. Name these functions arithmetic_mean and geometric_mean respectively."
   ]
  },
  {
   "cell_type": "code",
   "execution_count": 47,
   "metadata": {},
   "outputs": [],
   "source": [
    "import math\n",
    "def arithmetic_mean(x,y):\n",
    "    arithmetic_mean=(x+y)/2\n",
    "    print(arithmetic_mean)"
   ]
  },
  {
   "cell_type": "code",
   "execution_count": 48,
   "metadata": {},
   "outputs": [
    {
     "name": "stdout",
     "output_type": "stream",
     "text": [
      "43.0\n"
     ]
    }
   ],
   "source": [
    "arithmetic_mean(40,46)"
   ]
  },
  {
   "cell_type": "code",
   "execution_count": null,
   "metadata": {},
   "outputs": [],
   "source": []
  },
  {
   "cell_type": "markdown",
   "metadata": {},
   "source": [
    "c) Converts angle in degrees to radians and vice versa. Name these two functions degrees_to_radians and radians_to_degrees respectively."
   ]
  },
  {
   "cell_type": "code",
   "execution_count": 24,
   "metadata": {},
   "outputs": [],
   "source": [
    "from math import pi\n",
    "def degrees_to_radians():\n",
    "    c = float(input(\"angles in degree\"))\n",
    "    R =  (180*c)/pi\n",
    "    print(c,\"=\",R, \"radian\")\n",
    "def radians_to_degrees():\n",
    "    r = float(input(\"angle in radian\"))\n",
    "    C = (r*pi)/180\n",
    "    print(r, \"=\", C,\"degrees \")"
   ]
  },
  {
   "cell_type": "code",
   "execution_count": 25,
   "metadata": {},
   "outputs": [
    {
     "name": "stdout",
     "output_type": "stream",
     "text": [
      "angles in degree101\n",
      "101.0 = 5786.873730821315 radian\n"
     ]
    }
   ],
   "source": [
    "degrees_to_radians()"
   ]
  },
  {
   "cell_type": "code",
   "execution_count": 26,
   "metadata": {},
   "outputs": [
    {
     "name": "stdout",
     "output_type": "stream",
     "text": [
      "angle in radian270\n",
      "270.0 = 4.71238898038469 degrees \n"
     ]
    }
   ],
   "source": [
    "radians_to_degrees()"
   ]
  },
  {
   "cell_type": "markdown",
   "metadata": {},
   "source": [
    "d) Computes the circumference and the area of a circle given the radius."
   ]
  },
  {
   "cell_type": "code",
   "execution_count": 29,
   "metadata": {},
   "outputs": [],
   "source": [
    "from math import pi\n",
    "def circle():\n",
    "    r = float(input(' radius:'))\n",
    "    circumference = 2*pi*r\n",
    "    area = pi*r**2\n",
    "    print('the circumference of circle is :',circumference)\n",
    "    print('the area of circle is :',area)"
   ]
  },
  {
   "cell_type": "code",
   "execution_count": 30,
   "metadata": {},
   "outputs": [
    {
     "name": "stdout",
     "output_type": "stream",
     "text": [
      " radius:2.1\n",
      "the circumference of circle is : 13.194689145077131\n",
      "the area of circle is : 13.854423602330987\n"
     ]
    }
   ],
   "source": [
    "circle()"
   ]
  },
  {
   "cell_type": "markdown",
   "metadata": {},
   "source": [
    "Write functions that do the following:"
   ]
  },
  {
   "cell_type": "markdown",
   "metadata": {},
   "source": [
    "a) Given two numbers, compute their average and geometrical mean and prints them. Now write a program that performs this process 10 times, taking as input the means computed in the previous step. Name this function avggeom."
   ]
  },
  {
   "cell_type": "code",
   "execution_count": null,
   "metadata": {},
   "outputs": [],
   "source": []
  },
  {
   "cell_type": "markdown",
   "metadata": {},
   "source": [
    "b) Write a function that computes the distance between two points in the plane. Use it in another program that computes the perimeter and the area of a triangle, given three points in the plane. Name this function distancefn."
   ]
  },
  {
   "cell_type": "code",
   "execution_count": 32,
   "metadata": {},
   "outputs": [],
   "source": [
    "from math import sqrt\n",
    "def distance_fn():\n",
    "    x1 = int(input(\"the value of point a:\"))\n",
    "    x2 = int(input(\"the value of pont b :\"))\n",
    "    x3 = int(input(\"the value of point c:\"))\n",
    "    y1 = int(input(\"the coordinate of a :\"))\n",
    "    y2 = int(input(\"the coordinate of b :\"))\n",
    "    y3 = int(input(\"the coordinate of c :\"))\n",
    "    h  = int(input(\"the height\"))\n",
    "    ab = (x1 - x2)**2 +(y1-y2)**2\n",
    "    bc = (x2 - x3)**2 + (y2 - y3)**2\n",
    "    ac = (x1 - x3)**2 + (y1 - y3)**2 \n",
    "    D_a_b = sqrt(ab)\n",
    "    D_b_c = sqrt(bc)\n",
    "    D_a_c = sqrt(ac) \n",
    "    a = max(D_a_b,D_b_c,D_a_c)\n",
    "    print(\" the distance between a and b :\",D_a_b)\n",
    "    print(\" the distance between c and d :\",D_b_c)\n",
    "    print(\" the distance between a and c :\",D_a_c)\n",
    "    P = D_a_b + D_b_c + D_a_c\n",
    "    A = (a*h)/2\n",
    "    print(\"the perimeter of the triangle formed by points a,b and c is:\",P,\"metre\")\n",
    "    print(\"the area of the triangle formed by points a,b and c is :\",P,\"metre square \")"
   ]
  },
  {
   "cell_type": "code",
   "execution_count": 34,
   "metadata": {},
   "outputs": [
    {
     "name": "stdout",
     "output_type": "stream",
     "text": [
      "the value of point a:40\n",
      "the value of pont b :80\n",
      "the value of point c:140\n",
      "the coordinate of a :240\n",
      "the coordinate of b :160\n",
      "the coordinate of c :320\n",
      "the height500\n",
      " the distance between a and b : 89.44271909999159\n",
      " the distance between c and d : 170.88007490635061\n",
      " the distance between a and c : 128.06248474865697\n",
      "the perimeter of the triangle formed by points a,b and c is: 388.38527875499915 metre\n",
      "the area of the triangle formed by points a,b and c is : 388.38527875499915 metre square \n"
     ]
    }
   ],
   "source": [
    "distance_fn()"
   ]
  },
  {
   "cell_type": "markdown",
   "metadata": {},
   "source": [
    "1)Write a program that offers three options to the user:"
   ]
  },
  {
   "cell_type": "markdown",
   "metadata": {},
   "source": [
    "a).Evaluation of actorial"
   ]
  },
  {
   "cell_type": "markdown",
   "metadata": {},
   "source": [
    "b)Evaluation of a second degree equation"
   ]
  },
  {
   "cell_type": "markdown",
   "metadata": {},
   "source": [
    "c).Exit"
   ]
  },
  {
   "cell_type": "markdown",
   "metadata": {},
   "source": [
    "The user selects one of the options and then the program requests the data needed and calls the corresponding function to produce a result. The program then repeats the process until the user says he wants to exit. Name this function fact2nddeg."
   ]
  },
  {
   "cell_type": "code",
   "execution_count": 35,
   "metadata": {},
   "outputs": [],
   "source": [
    "def fact2nddeg():\n",
    "        while 1: \n",
    "                lettre = input (\"if you need to quit type 'q' else : \")\n",
    "                if lettre == \"q\":\n",
    "                    print (\" thanks for leaving \")\n",
    "                    break\n",
    "                else:\n",
    "                    n = int(input(\" write the integer n:\")) \n",
    "                    for i in range(1,n):\n",
    "                        n *= i\n",
    "                    print(n)\n",
    "                    print(\" second degree equation\")\n",
    "                    a = float(input(\" the value of the coefficient a :\"))\n",
    "                    b = float(input(\" the value of the coefficient b :\"))\n",
    "                    c = float(input(\" the value of the coefficient c :\"))\n",
    "                    D = b**2 -4*a*c\n",
    "                    if D < 0:\n",
    "                        print(\"l'equation has no solution\")\n",
    "                        X0 = -b/(2*a)\n",
    "                        print(\"l the equation has one solution': x =\", X0)\n",
    "                    else:\n",
    "                        d = sqrt(D)\n",
    "                        X1 = (-b-d)/2*a\n",
    "                        X2 = (-b+d)/2*a\n",
    "                        print(\"l'equation has two solution: X1=\",X1,\"and X2 =\",X2)\n",
    "        \n",
    "                    "
   ]
  },
  {
   "cell_type": "code",
   "execution_count": 37,
   "metadata": {},
   "outputs": [
    {
     "name": "stdout",
     "output_type": "stream",
     "text": [
      "if you need to quit type 'q' else : g\n",
      " write the integer n:123\n",
      "12146304367025329675766243241881295855454217088483382315328918161829235892362167668831156960612640202170735835221294047782591091570411651472186029519906261646730733907419814952960000000000000000000000000000\n",
      " second degree equation\n",
      " the value of the coefficient a :6\n",
      " the value of the coefficient b :9\n",
      " the value of the coefficient c :12\n",
      "l'equation has no solution\n",
      "l the equation has one solution': x = -0.75\n",
      "if you need to quit type 'q' else : u\n",
      " write the integer n:34\n",
      "295232799039604140847618609643520000000\n",
      " second degree equation\n",
      " the value of the coefficient a :2\n",
      " the value of the coefficient b :5\n",
      " the value of the coefficient c :8\n",
      "l'equation has no solution\n",
      "l the equation has one solution': x = -1.25\n",
      "if you need to quit type 'q' else : q\n",
      " thanks for leaving \n"
     ]
    }
   ],
   "source": [
    "fact2nddeg()"
   ]
  },
  {
   "cell_type": "markdown",
   "metadata": {},
   "source": [
    "For a fixed real number 𝑥 and a natural number 𝑛, we can define recursively 𝑥𝑛 using the relations: 𝑥0=1 and 𝑥𝑛+1=𝑥∗𝑥𝑛: Write a function power(x,n) that implements the above recursion."
   ]
  },
  {
   "cell_type": "code",
   "execution_count": 38,
   "metadata": {},
   "outputs": [],
   "source": [
    "def power():\n",
    "    x = int(input(\"real number :\"))\n",
    "    n = int(input(\"order of power:\"))\n",
    "    b = x\n",
    "    for i in range(n-1):\n",
    "        b*=x\n",
    "    print(x,\"power\",n,\"given\",b)"
   ]
  },
  {
   "cell_type": "code",
   "execution_count": 39,
   "metadata": {},
   "outputs": [
    {
     "name": "stdout",
     "output_type": "stream",
     "text": [
      "real number :5\n",
      "order of power:8\n",
      "5 power 8 given 390625\n"
     ]
    }
   ],
   "source": [
    "power()"
   ]
  },
  {
   "cell_type": "markdown",
   "metadata": {},
   "source": [
    "Write code that implements the Fibonacci sequence. Test your program at 100."
   ]
  },
  {
   "cell_type": "code",
   "execution_count": 40,
   "metadata": {},
   "outputs": [],
   "source": [
    "def Fibonacci():\n",
    "    S_0 = int(input(\"first value\"))\n",
    "    S_1 = int(input(\"second value\"))\n",
    "    S_2 = S_0+S_1\n",
    "    S = [S_0,S_1,S_2]\n",
    "    for i in range(100-3):\n",
    "        S_0 = S_1\n",
    "        S_1 = S_2\n",
    "        S_2 = S_0 + S_1\n",
    "        S.append(S_2)\n",
    "    print(len(S))\n",
    "    print(S)"
   ]
  },
  {
   "cell_type": "code",
   "execution_count": 41,
   "metadata": {},
   "outputs": [
    {
     "name": "stdout",
     "output_type": "stream",
     "text": [
      "first value14\n",
      "second value20\n",
      "100\n",
      "[14, 20, 34, 54, 88, 142, 230, 372, 602, 974, 1576, 2550, 4126, 6676, 10802, 17478, 28280, 45758, 74038, 119796, 193834, 313630, 507464, 821094, 1328558, 2149652, 3478210, 5627862, 9106072, 14733934, 23840006, 38573940, 62413946, 100987886, 163401832, 264389718, 427791550, 692181268, 1119972818, 1812154086, 2932126904, 4744280990, 7676407894, 12420688884, 20097096778, 32517785662, 52614882440, 85132668102, 137747550542, 222880218644, 360627769186, 583507987830, 944135757016, 1527643744846, 2471779501862, 3999423246708, 6471202748570, 10470625995278, 16941828743848, 27412454739126, 44354283482974, 71766738222100, 116121021705074, 187887759927174, 304008781632248, 491896541559422, 795905323191670, 1287801864751092, 2083707187942762, 3371509052693854, 5455216240636616, 8826725293330470, 14281941533967086, 23108666827297556, 37390608361264642, 60499275188562198, 97889883549826840, 158389158738389038, 256279042288215878, 414668201026604916, 670947243314820794, 1085615444341425710, 1756562687656246504, 2842178131997672214, 4598740819653918718, 7440918951651590932, 12039659771305509650, 19480578722957100582, 31520238494262610232, 51000817217219710814, 82521055711482321046, 133521872928702031860, 216042928640184352906, 349564801568886384766, 565607730209070737672, 915172531777957122438, 1480780261987027860110, 2395952793764984982548, 3876733055752012842658, 6272685849516997825206]\n"
     ]
    }
   ],
   "source": [
    "Fibonacci()"
   ]
  },
  {
   "cell_type": "code",
   "execution_count": null,
   "metadata": {},
   "outputs": [],
   "source": []
  }
 ],
 "metadata": {
  "kernelspec": {
   "display_name": "Python 3",
   "language": "python",
   "name": "python3"
  },
  "language_info": {
   "codemirror_mode": {
    "name": "ipython",
    "version": 3
   },
   "file_extension": ".py",
   "mimetype": "text/x-python",
   "name": "python",
   "nbconvert_exporter": "python",
   "pygments_lexer": "ipython3",
   "version": "3.6.9"
  }
 },
 "nbformat": 4,
 "nbformat_minor": 2
}
